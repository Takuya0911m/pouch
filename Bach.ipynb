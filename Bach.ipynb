{
  "cells": [
    {
      "cell_type": "markdown",
      "metadata": {
        "id": "RfFWncEU_Bi0"
      },
      "source": [
        "# 第15回課題: Pythonプログラミングの課題の作成"
      ]
    },
    {
      "cell_type": "markdown",
      "metadata": {
        "id": "rr-iNxea_Bi7"
      },
      "source": [
        "諸君はこれまで14回に渡り、Python言語でのプログラミングを学び、課題を解いてきた。今回の課題は、この14回を振り返り、諸君から後輩たちに贈るPythonプログラミングの課題と、後輩たちの提出物の正誤を判定するテスト関数を作成することである。\n",
        "\n",
        "- 課題の作成はグループで行うものとする。\n",
        "- グループは好きに組んで良い。\n",
        "- 課題の内容は何かしらの関数を作成させるものでなければならない(そうでなければテストができない)。\n",
        "- 最終講義日である7月26日の4限目(14:40-16:10)に、各グループの制作課題を発表する。\n",
        "  - 持ち時間は3分程度とする。課題の概要と、その課題の狙い(何を考えさせたいのか、何の習熟を確認するための課題なのか)を説明せよ。\n",
        "  - 発表のないグループは失格(第15回のグループ全員の得点を0点)とする。\n",
        "  - 3限目(13:00-14:30)の時間は第14回の課題に取り組む時間とする。\n",
        "- 発表にあたってスライドを用意する必要はない。\n",
        "- 全グループの発表のあとに、課題の人気投票を行う。\n",
        "- 課題を免除されている者は、この課題も免除であるが、やってもよい。"
      ]
    },
    {
      "cell_type": "markdown",
      "metadata": {
        "id": "18UPfqY5_Bi8"
      },
      "source": [
        "## 問題文"
      ]
    },
    {
      "cell_type": "markdown",
      "metadata": {
        "id": "PkEva_Ag_Bi8"
      },
      "source": [
        "## 音名象徴(BACH主題)\n",
        "クラシック音楽には、作曲家の名前の文字を主題（モチーフ）とした曲がある。\n",
        "\n",
        "（フーガの技法、バッハの名による幻想曲とフーガ、ハイドンの名によるメヌエット、アランの名による前奏曲とフーガ　など）\n",
        "\n",
        "参考（Wikipedia）:\n",
        "- BACH主題: https://ja.wikipedia.org/wiki/BACH%E4%B8%BB%E9%A1%8C\n",
        "- ハイドンの名によるメヌエット: https://ja.wikipedia.org/wiki/%E3%83%8F%E3%82%A4%E3%83%89%E3%83%B3%E3%81%AE%E5%90%8D%E3%81%AB%E3%82%88%E3%82%8B%E3%83%A1%E3%83%8C%E3%82%A8%E3%83%83%E3%83%88\n",
        "- アランの名による前奏曲とフーガ: https://ja.wikipedia.org/wiki/%E3%82%A2%E3%83%A9%E3%83%B3%E3%81%AE%E5%90%8D%E3%81%AB%E3%82%88%E3%82%8B%E5%89%8D%E5%A5%8F%E6%9B%B2%E3%81%A8%E3%83%95%E3%83%BC%E3%82%AC\n",
        "\n",
        "モーリス・デュリュフレ - アランの名による前奏曲とフーガでは以下のテーブルにそって変換している\n",
        "\n",
        "| ラ | シ♭ | ド | レ | ミ | ファ | ソ | シ |\n",
        "|-|-|-|-|-|-|-|-|\n",
        "| A | B | C | D | E | F | G | H |\n",
        "| I | J | K | L | M | N | O | P |\n",
        "| Q | R | S | T | U | V | W | X |\n",
        "| Y | Z |   |   |   |   |   |   |\n",
        "\n",
        "これに沿って、英単語から音階へ変換する関数Bach()を定義せよ。なお、音階は英語音名{ラ:A, シ♭:Bb, ド:C, レ:D, ミ:E, ファ:F, ソ:G, シ:B}で出力せよ。"
      ]
    },
    {
      "cell_type": "markdown",
      "metadata": {
        "id": "Qzb7TzRp_Bi9"
      },
      "source": [
        "## 正解である解答例"
      ]
    },
    {
      "cell_type": "code",
      "execution_count": null,
      "metadata": {
        "id": "O2zuqrga_Bi9"
      },
      "outputs": [],
      "source": [
        "def Bach(word):\n",
        "    L = len(word)\n",
        "    up_word = word.upper()\n",
        "    mu = ''\n",
        "    for i in range(L):\n",
        "      W = up_word[i]\n",
        "      if W in ['A', 'I', 'Q', 'Y']:\n",
        "        mu += 'A'\n",
        "      elif W in ['B', 'J', 'R', 'Z']:\n",
        "        mu += 'Bb'\n",
        "      elif W in ['C', 'K', 'S']:\n",
        "        mu += 'C'\n",
        "      elif W in ['D', 'L', 'T']:\n",
        "        mu += 'D'\n",
        "      elif W in ['E', 'M', 'U']:\n",
        "        mu += 'E'\n",
        "      elif W in ['F', 'N', 'V']:\n",
        "        mu += 'F'\n",
        "      elif W in ['G', 'O', 'W']:\n",
        "        mu += 'G'\n",
        "      elif W in ['H', 'P', 'X']:\n",
        "        mu += 'B'\n",
        "    #print(mu)\n",
        "    return mu"
      ]
    },
    {
      "cell_type": "markdown",
      "metadata": {
        "id": "7MAG3lQi_Bi-"
      },
      "source": [
        "## 正誤判定のためのテスト関数"
      ]
    },
    {
      "cell_type": "code",
      "execution_count": null,
      "metadata": {
        "id": "McYEIobd_Bi_"
      },
      "outputs": [],
      "source": [
        "def test_Bach():\n",
        "  assert Bach('Python') == 'BADBGF', 'Test1 Failed'\n",
        "  assert Bach('SOCU') == 'CGCE', 'Test2 Failed'\n",
        "  assert Bach('jupyter') == 'BbEBADEBb', 'Test3 Failed'\n",
        "  assert Bach('GitHub') == 'GADBEBb', 'Test4 Failed'\n",
        "  assert Bach('SIGMUS') == 'CAGEEC', 'Test5 Failed'\n",
        "  assert Bach('IROBOT') == 'ABbGBbGD', 'Test6 Failed'\n",
        "  assert Bach('CallingForest') == 'CADDAFGFGBbECD', 'Test7 Failed'\n",
        "  assert Bach('keytalker') == 'CEADADCEBb', 'Test8 Failed'\n",
        "  assert Bach('Fender') == 'FEFDEBb', 'Test9 Failed'\n",
        "  assert Bach('HelloWorld') == 'BEDDGGGBbDD', 'Test10 Failed'\n",
        "  print('All Test Complete.')"
      ]
    },
    {
      "cell_type": "code",
      "source": [],
      "metadata": {
        "id": "sSNUicMBw673"
      },
      "execution_count": null,
      "outputs": []
    }
  ],
  "metadata": {
    "language_info": {
      "name": "python"
    },
    "colab": {
      "provenance": []
    },
    "kernelspec": {
      "name": "python3",
      "display_name": "Python 3"
    }
  },
  "nbformat": 4,
  "nbformat_minor": 0
}