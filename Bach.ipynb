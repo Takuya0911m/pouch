{
  "cells": [
    {
      "cell_type": "markdown",
      "metadata": {
        "id": "RfFWncEU_Bi0"
      },
      "source": [
        "# プログラミング1 第15回課題: Pythonプログラミングの課題の作成"
      ]
    },
    {
      "cell_type": "markdown",
      "metadata": {
        "id": "rr-iNxea_Bi7"
      },
      "source": [
        "今回の課題は、この14回を振り返り、諸君から後輩たちに贈るPythonプログラミングの課題と、後輩たちの提出物の正誤を判定するテスト関数を作成することである。\n",
        "\n",
        "- 課題の内容は何かしらの関数を作成させるものでなければならない(そうでなければテストができない)。"
      ]
    },
    {
      "cell_type": "markdown",
      "metadata": {
        "id": "PkEva_Ag_Bi8"
      },
      "source": [
        "## 音名象徴(BACH主題)\n",
        "クラシック音楽には、作曲家の名前の文字を主題（モチーフ）とした曲がある。\n",
        "\n",
        "（フーガの技法、バッハの名による幻想曲とフーガ、ハイドンの名によるメヌエット、アランの名による前奏曲とフーガ　など）\n",
        "\n",
        "参考（Wikipedia）:\n",
        "- BACH主題: https://ja.wikipedia.org/wiki/BACH%E4%B8%BB%E9%A1%8C\n",
        "- ハイドンの名によるメヌエット: https://ja.wikipedia.org/wiki/%E3%83%8F%E3%82%A4%E3%83%89%E3%83%B3%E3%81%AE%E5%90%8D%E3%81%AB%E3%82%88%E3%82%8B%E3%83%A1%E3%83%8C%E3%82%A8%E3%83%83%E3%83%88\n",
        "- アランの名による前奏曲とフーガ: https://ja.wikipedia.org/wiki/%E3%82%A2%E3%83%A9%E3%83%B3%E3%81%AE%E5%90%8D%E3%81%AB%E3%82%88%E3%82%8B%E5%89%8D%E5%A5%8F%E6%9B%B2%E3%81%A8%E3%83%95%E3%83%BC%E3%82%AC\n",
        "\n",
        "モーリス・デュリュフレ - アランの名による前奏曲とフーガでは以下のテーブルにそって変換している\n",
        "\n",
        "| ラ | シ♭ | ド | レ | ミ | ファ | ソ | シ |\n",
        "|-|-|-|-|-|-|-|-|\n",
        "| A | B | C | D | E | F | G | H |\n",
        "| I | J | K | L | M | N | O | P |\n",
        "| Q | R | S | T | U | V | W | X |\n",
        "| Y | Z |   |   |   |   |   |   |\n",
        "\n",
        "これに沿って、英単語から音階へ変換する関数Bach()を定義せよ。なお、音階は英語音名{ラ:A, シ♭:Bb, ド:C, レ:D, ミ:E, ファ:F, ソ:G, シ:B}で出力せよ。"
      ]
    },
    {
      "cell_type": "markdown",
      "metadata": {},
      "source": [
        "### 課題の狙い\n",
        "- 第５回-文字列、第８回-条件分岐、第10回-繰り返しの習熟の確認\n",
        "- "
      ]
    },
    {
      "cell_type": "markdown",
      "metadata": {
        "id": "Qzb7TzRp_Bi9"
      },
      "source": [
        "## 正解である解答例"
      ]
    },
    {
      "cell_type": "code",
      "execution_count": null,
      "metadata": {
        "id": "O2zuqrga_Bi9"
      },
      "outputs": [],
      "source": [
        "def Bach(word):\n",
        "    L = len(word)\n",
        "    up_word = word.upper()\n",
        "    mu = ''\n",
        "    for i in range(L):\n",
        "      W = up_word[i]\n",
        "      if W in ['A', 'I', 'Q', 'Y']:\n",
        "        mu += 'A'\n",
        "      elif W in ['B', 'J', 'R', 'Z']:\n",
        "        mu += 'Bb'\n",
        "      elif W in ['C', 'K', 'S']:\n",
        "        mu += 'C'\n",
        "      elif W in ['D', 'L', 'T']:\n",
        "        mu += 'D'\n",
        "      elif W in ['E', 'M', 'U']:\n",
        "        mu += 'E'\n",
        "      elif W in ['F', 'N', 'V']:\n",
        "        mu += 'F'\n",
        "      elif W in ['G', 'O', 'W']:\n",
        "        mu += 'G'\n",
        "      elif W in ['H', 'P', 'X']:\n",
        "        mu += 'B'\n",
        "    #print(mu)\n",
        "    return mu"
      ]
    },
    {
      "cell_type": "markdown",
      "metadata": {
        "id": "7MAG3lQi_Bi-"
      },
      "source": [
        "## 正誤判定のためのテスト関数"
      ]
    },
    {
      "cell_type": "code",
      "execution_count": null,
      "metadata": {
        "id": "McYEIobd_Bi_"
      },
      "outputs": [],
      "source": [
        "def test_Bach():\n",
        "  assert Bach('Python') == 'BADBGF'\n",
        "  assert Bach('SOCU') == 'CGCE'\n",
        "  assert Bach('jupyter') == 'BbEBADEBb'"
      ]
    },
    {
      "cell_type": "markdown",
      "metadata": {},
      "source": [
        "課題ここまで"
      ]
    }
  ],
  "metadata": {
    "colab": {
      "provenance": []
    },
    "kernelspec": {
      "display_name": "Python 3",
      "name": "python3"
    },
    "language_info": {
      "name": "python"
    }
  },
  "nbformat": 4,
  "nbformat_minor": 0
}
